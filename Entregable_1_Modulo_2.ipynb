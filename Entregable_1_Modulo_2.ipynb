{
  "nbformat": 4,
  "nbformat_minor": 0,
  "metadata": {
    "colab": {
      "provenance": [],
      "include_colab_link": true
    },
    "kernelspec": {
      "name": "python3",
      "display_name": "Python 3"
    },
    "language_info": {
      "name": "python"
    }
  },
  "cells": [
    {
      "cell_type": "markdown",
      "metadata": {
        "id": "view-in-github",
        "colab_type": "text"
      },
      "source": [
        "<a href=\"https://colab.research.google.com/github/sanDavidUdea/Prueba_git_hub/blob/master/Entregable_1_Modulo_2.ipynb\" target=\"_parent\"><img src=\"https://colab.research.google.com/assets/colab-badge.svg\" alt=\"Open In Colab\"/></a>"
      ]
    },
    {
      "cell_type": "code",
      "execution_count": null,
      "metadata": {
        "colab": {
          "base_uri": "https://localhost:8080/"
        },
        "id": "shUbww9_Gtfc",
        "outputId": "ccb1b0a4-e545-41b0-b353-73475cfe0773"
      },
      "outputs": [
        {
          "output_type": "stream",
          "name": "stdout",
          "text": [
            "         Name  Age             Job\n",
            "0       María   34      Abogado(a)\n",
            "1      Carlos   29       Medico(a)\n",
            "2       Lucía   47     Profesor(a)\n",
            "3       Sofía   25      Quimico(a)\n",
            "4      Miguel   38       Estadista\n",
            "5       Laura   41   Arquitecto(a)\n",
            "6        José   26       Medico(a)\n",
            "7      Isabel   50   Odontologo(a)\n",
            "8       David   33       Pintor(a)\n",
            "9       Elena   28      Bombero(a)\n",
            "10     Manuel   35       Medico(a)\n",
            "11      Paula   46       Estadista\n",
            "12     Andrés   30     Profesor(a)\n",
            "13      Clara   39  Veterinario(a)\n",
            "14   Fernando   42   Odontologo(a)\n",
            "15     Camila   27    Psicologo(a)\n",
            "16     Javier   49    Enfermero(a)\n",
            "17    Valeria   32     Botanico(a)\n",
            "18   Santiago   31    Sociologo(a)\n",
            "19     Teresa   40     Profesor(a)\n",
            "20  Alejandro   37     Profesor(a)\n",
            "21      Marta   43       Medico(a)\n",
            "22     Daniel   48      Biologo(a)\n",
            "23    Roberto   36       Estadista\n",
            "24    Gonzalo   44      Quimico(a)\n"
          ]
        }
      ],
      "source": [
        "import pandas as pd\n",
        "import numpy as np\n",
        "# Creacion del DataFrame\n",
        "data= {\"Name\":[\"María\",\"Carlos\",\"Lucía\",\"Sofía\",\"Miguel\",\"Laura\",\"José\",\"Isabel\",\"David\",\"Elena\",\"Manuel\",\"Paula\",\"Andrés\",\"Clara\",\"Fernando\",\"Camila\",\"Javier\",\"Valeria\",\"Santiago\",\"Teresa\",\"Alejandro\",\"Marta\",\"Daniel\",\"Roberto\",\"Gonzalo\"],\n",
        "      \"Age\":[34,29,47,25,38,41,26,50,33,28,35,46,30,39,42,27,49,32,31,40,37,43,48,36,44],\n",
        "      \"Job\": [\"Abogado(a)\",\"Medico(a)\", \"Profesor(a)\", \"Quimico(a)\",\"Estadista\", \"Arquitecto(a)\", \"Medico(a)\",\"Odontologo(a)\",\"Pintor(a)\", \"Bombero(a)\",\"Medico(a)\",\"Estadista\", \"Profesor(a)\", \"Veterinario(a)\", \"Odontologo(a)\", \"Psicologo(a)\", \"Enfermero(a)\", \"Botanico(a)\", \"Sociologo(a)\", \"Profesor(a)\",\"Profesor(a)\", \"Medico(a)\", \"Biologo(a)\", \"Estadista\", \"Quimico(a)\" ]}\n",
        "df= pd.DataFrame(data)\n",
        "print (df)"
      ]
    },
    {
      "cell_type": "code",
      "source": [
        "# Agregar nuevas columnas\n",
        "df [\"Experience years\"]= [9,4,22,0, 13,16,1,25,8,3,10,21,5,14,17,2,24,7,6,15,12,18,23,11,19]\n",
        "df [\"Salary\"]= [4000000,5000000, 2000000, 3500000,6000000, 4000000, 5000000,3000000,2000000, 2000000,5000000,6000000, 2000000, 3000000, 3000000, 2500000, 3000000, 2500000, 3000000, 2000000,2000000, 5000000, 2000000, 6000000, 3500000]\n",
        "print (df)"
      ],
      "metadata": {
        "id": "U823NDTKPK48",
        "colab": {
          "base_uri": "https://localhost:8080/"
        },
        "outputId": "f8375a92-e8ce-4604-beda-27d1f5ec36d8"
      },
      "execution_count": null,
      "outputs": [
        {
          "output_type": "stream",
          "name": "stdout",
          "text": [
            "         Name  Age             Job  Experience years   Salary\n",
            "0       María   34      Abogado(a)                 9  4000000\n",
            "1      Carlos   29       Medico(a)                 4  5000000\n",
            "2       Lucía   47     Profesor(a)                22  2000000\n",
            "3       Sofía   25      Quimico(a)                 0  3500000\n",
            "4      Miguel   38       Estadista                13  6000000\n",
            "5       Laura   41   Arquitecto(a)                16  4000000\n",
            "6        José   26       Medico(a)                 1  5000000\n",
            "7      Isabel   50   Odontologo(a)                25  3000000\n",
            "8       David   33       Pintor(a)                 8  2000000\n",
            "9       Elena   28      Bombero(a)                 3  2000000\n",
            "10     Manuel   35       Medico(a)                10  5000000\n",
            "11      Paula   46       Estadista                21  6000000\n",
            "12     Andrés   30     Profesor(a)                 5  2000000\n",
            "13      Clara   39  Veterinario(a)                14  3000000\n",
            "14   Fernando   42   Odontologo(a)                17  3000000\n",
            "15     Camila   27    Psicologo(a)                 2  2500000\n",
            "16     Javier   49    Enfermero(a)                24  3000000\n",
            "17    Valeria   32     Botanico(a)                 7  2500000\n",
            "18   Santiago   31    Sociologo(a)                 6  3000000\n",
            "19     Teresa   40     Profesor(a)                15  2000000\n",
            "20  Alejandro   37     Profesor(a)                12  2000000\n",
            "21      Marta   43       Medico(a)                18  5000000\n",
            "22     Daniel   48      Biologo(a)                23  2000000\n",
            "23    Roberto   36       Estadista                11  6000000\n",
            "24    Gonzalo   44      Quimico(a)                19  3500000\n"
          ]
        }
      ]
    },
    {
      "cell_type": "code",
      "source": [
        "# Operaciones entre columnas\n",
        "df[\"Bonus(%)\"]= df[\"Experience years\"]*0.01\n",
        "df[\"Salary with bonus\"]= df[\"Salary\"]+df[\"Salary\"]*df[\"Bonus(%)\"]\n",
        "df[\"Currency\"]= \"COP\"\n",
        "print(df)"
      ],
      "metadata": {
        "colab": {
          "base_uri": "https://localhost:8080/"
        },
        "id": "ww0OIU34cePJ",
        "outputId": "3c8f2c35-e5bc-45e9-e38c-fbd93fd228ad"
      },
      "execution_count": null,
      "outputs": [
        {
          "output_type": "stream",
          "name": "stdout",
          "text": [
            "         Name  Age             Job  Experience years   Salary  Bonus(%)  \\\n",
            "0       María   34      Abogado(a)                 9  4000000      0.09   \n",
            "1      Carlos   29       Medico(a)                 4  5000000      0.04   \n",
            "2       Lucía   47     Profesor(a)                22  2000000      0.22   \n",
            "3       Sofía   25      Quimico(a)                 0  3500000      0.00   \n",
            "4      Miguel   38       Estadista                13  6000000      0.13   \n",
            "5       Laura   41   Arquitecto(a)                16  4000000      0.16   \n",
            "6        José   26       Medico(a)                 1  5000000      0.01   \n",
            "7      Isabel   50   Odontologo(a)                25  3000000      0.25   \n",
            "8       David   33       Pintor(a)                 8  2000000      0.08   \n",
            "9       Elena   28      Bombero(a)                 3  2000000      0.03   \n",
            "10     Manuel   35       Medico(a)                10  5000000      0.10   \n",
            "11      Paula   46       Estadista                21  6000000      0.21   \n",
            "12     Andrés   30     Profesor(a)                 5  2000000      0.05   \n",
            "13      Clara   39  Veterinario(a)                14  3000000      0.14   \n",
            "14   Fernando   42   Odontologo(a)                17  3000000      0.17   \n",
            "15     Camila   27    Psicologo(a)                 2  2500000      0.02   \n",
            "16     Javier   49    Enfermero(a)                24  3000000      0.24   \n",
            "17    Valeria   32     Botanico(a)                 7  2500000      0.07   \n",
            "18   Santiago   31    Sociologo(a)                 6  3000000      0.06   \n",
            "19     Teresa   40     Profesor(a)                15  2000000      0.15   \n",
            "20  Alejandro   37     Profesor(a)                12  2000000      0.12   \n",
            "21      Marta   43       Medico(a)                18  5000000      0.18   \n",
            "22     Daniel   48      Biologo(a)                23  2000000      0.23   \n",
            "23    Roberto   36       Estadista                11  6000000      0.11   \n",
            "24    Gonzalo   44      Quimico(a)                19  3500000      0.19   \n",
            "\n",
            "    Salary with bonus Currency  \n",
            "0           4360000.0      COP  \n",
            "1           5200000.0      COP  \n",
            "2           2440000.0      COP  \n",
            "3           3500000.0      COP  \n",
            "4           6780000.0      COP  \n",
            "5           4640000.0      COP  \n",
            "6           5050000.0      COP  \n",
            "7           3750000.0      COP  \n",
            "8           2160000.0      COP  \n",
            "9           2060000.0      COP  \n",
            "10          5500000.0      COP  \n",
            "11          7260000.0      COP  \n",
            "12          2100000.0      COP  \n",
            "13          3420000.0      COP  \n",
            "14          3510000.0      COP  \n",
            "15          2550000.0      COP  \n",
            "16          3720000.0      COP  \n",
            "17          2675000.0      COP  \n",
            "18          3180000.0      COP  \n",
            "19          2300000.0      COP  \n",
            "20          2240000.0      COP  \n",
            "21          5900000.0      COP  \n",
            "22          2460000.0      COP  \n",
            "23          6660000.0      COP  \n",
            "24          4165000.0      COP  \n"
          ]
        }
      ]
    },
    {
      "cell_type": "code",
      "source": [
        "#Eliminar columnas\n",
        "df.drop(\"Currency\" , axis = 1, inplace=True)\n",
        "print(df)"
      ],
      "metadata": {
        "colab": {
          "base_uri": "https://localhost:8080/"
        },
        "id": "l14foFPrf2dA",
        "outputId": "f0632d30-c2ab-455d-eb7b-c46b7ece4058"
      },
      "execution_count": null,
      "outputs": [
        {
          "output_type": "stream",
          "name": "stdout",
          "text": [
            "         Name  Age             Job  Experience years   Salary  Bonus(%)  \\\n",
            "0       María   34      Abogado(a)                 9  4000000      0.09   \n",
            "1      Carlos   29       Medico(a)                 4  5000000      0.04   \n",
            "2       Lucía   47     Profesor(a)                22  2000000      0.22   \n",
            "3       Sofía   25      Quimico(a)                 0  3500000      0.00   \n",
            "4      Miguel   38       Estadista                13  6000000      0.13   \n",
            "5       Laura   41   Arquitecto(a)                16  4000000      0.16   \n",
            "6        José   26       Medico(a)                 1  5000000      0.01   \n",
            "7      Isabel   50   Odontologo(a)                25  3000000      0.25   \n",
            "8       David   33       Pintor(a)                 8  2000000      0.08   \n",
            "9       Elena   28      Bombero(a)                 3  2000000      0.03   \n",
            "10     Manuel   35       Medico(a)                10  5000000      0.10   \n",
            "11      Paula   46       Estadista                21  6000000      0.21   \n",
            "12     Andrés   30     Profesor(a)                 5  2000000      0.05   \n",
            "13      Clara   39  Veterinario(a)                14  3000000      0.14   \n",
            "14   Fernando   42   Odontologo(a)                17  3000000      0.17   \n",
            "15     Camila   27    Psicologo(a)                 2  2500000      0.02   \n",
            "16     Javier   49    Enfermero(a)                24  3000000      0.24   \n",
            "17    Valeria   32     Botanico(a)                 7  2500000      0.07   \n",
            "18   Santiago   31    Sociologo(a)                 6  3000000      0.06   \n",
            "19     Teresa   40     Profesor(a)                15  2000000      0.15   \n",
            "20  Alejandro   37     Profesor(a)                12  2000000      0.12   \n",
            "21      Marta   43       Medico(a)                18  5000000      0.18   \n",
            "22     Daniel   48      Biologo(a)                23  2000000      0.23   \n",
            "23    Roberto   36       Estadista                11  6000000      0.11   \n",
            "24    Gonzalo   44      Quimico(a)                19  3500000      0.19   \n",
            "\n",
            "    Salary with bonus  \n",
            "0           4360000.0  \n",
            "1           5200000.0  \n",
            "2           2440000.0  \n",
            "3           3500000.0  \n",
            "4           6780000.0  \n",
            "5           4640000.0  \n",
            "6           5050000.0  \n",
            "7           3750000.0  \n",
            "8           2160000.0  \n",
            "9           2060000.0  \n",
            "10          5500000.0  \n",
            "11          7260000.0  \n",
            "12          2100000.0  \n",
            "13          3420000.0  \n",
            "14          3510000.0  \n",
            "15          2550000.0  \n",
            "16          3720000.0  \n",
            "17          2675000.0  \n",
            "18          3180000.0  \n",
            "19          2300000.0  \n",
            "20          2240000.0  \n",
            "21          5900000.0  \n",
            "22          2460000.0  \n",
            "23          6660000.0  \n",
            "24          4165000.0  \n"
          ]
        }
      ]
    },
    {
      "cell_type": "code",
      "source": [
        "# Filtar datos\n",
        "younger_than_40 = df[df[\"Age\"] < 40]\n",
        "print(younger_than_40)"
      ],
      "metadata": {
        "colab": {
          "base_uri": "https://localhost:8080/"
        },
        "id": "zMH22vFmSdig",
        "outputId": "a2cac121-89dd-46f1-8ebd-59986d478864"
      },
      "execution_count": null,
      "outputs": [
        {
          "output_type": "stream",
          "name": "stdout",
          "text": [
            "         Name  Age             Job\n",
            "0       María   34      Abogado(a)\n",
            "1      Carlos   29       Medico(a)\n",
            "3       Sofía   25      Quimico(a)\n",
            "4      Miguel   38       Estadista\n",
            "6        José   26       Medico(a)\n",
            "8       David   33       Pintor(a)\n",
            "9       Elena   28      Bombero(a)\n",
            "10     Manuel   35       Medico(a)\n",
            "12     Andrés   30     Profesor(a)\n",
            "13      Clara   39  Veterinario(a)\n",
            "15     Camila   27    Psicologo(a)\n",
            "17    Valeria   32     Botanico(a)\n",
            "18   Santiago   31    Sociologo(a)\n",
            "20  Alejandro   37     Profesor(a)\n",
            "23    Roberto   36       Estadista\n"
          ]
        }
      ]
    },
    {
      "cell_type": "code",
      "source": [
        "# Estadistica descriptiva\n",
        "print(df.describe())"
      ],
      "metadata": {
        "colab": {
          "base_uri": "https://localhost:8080/"
        },
        "id": "_LF5U_-zWFzY",
        "outputId": "140bd09d-cce1-4aff-bd93-b77b640fc22e"
      },
      "execution_count": null,
      "outputs": [
        {
          "output_type": "stream",
          "name": "stdout",
          "text": [
            "             Age\n",
            "count  25.000000\n",
            "mean   37.200000\n",
            "std     7.648529\n",
            "min    25.000000\n",
            "25%    31.000000\n",
            "50%    37.000000\n",
            "75%    43.000000\n",
            "max    50.000000\n"
          ]
        }
      ]
    },
    {
      "cell_type": "code",
      "source": [
        "# Agrupar datos\n",
        "grouped = df.groupby('Job')['Age'].mean()\n",
        "print(grouped)\n"
      ],
      "metadata": {
        "colab": {
          "base_uri": "https://localhost:8080/"
        },
        "id": "vW3k7dxzW5KP",
        "outputId": "a0440fbc-0e41-4586-eb1d-1e89e2ca0ed3"
      },
      "execution_count": null,
      "outputs": [
        {
          "output_type": "stream",
          "name": "stdout",
          "text": [
            "Job\n",
            "Abogado(a)        34.00\n",
            "Arquitecto(a)     41.00\n",
            "Biologo(a)        48.00\n",
            "Bombero(a)        28.00\n",
            "Botanico(a)       32.00\n",
            "Enfermero(a)      49.00\n",
            "Estadista         40.00\n",
            "Medico(a)         33.25\n",
            "Odontologo(a)     46.00\n",
            "Pintor(a)         33.00\n",
            "Profesor(a)       38.50\n",
            "Psicologo(a)      27.00\n",
            "Quimico(a)        34.50\n",
            "Sociologo(a)      31.00\n",
            "Veterinario(a)    39.00\n",
            "Name: Age, dtype: float64\n"
          ]
        }
      ]
    },
    {
      "cell_type": "code",
      "source": [
        "# Ordenar datos\n",
        "df_sorted = df.sort_values(by='Age', ascending=True)\n",
        "print(df_sorted)\n"
      ],
      "metadata": {
        "colab": {
          "base_uri": "https://localhost:8080/"
        },
        "id": "I2hDOaF4X6Ct",
        "outputId": "1fe0f1e2-7ef4-48b0-f5bb-9cc18024fad1"
      },
      "execution_count": null,
      "outputs": [
        {
          "output_type": "stream",
          "name": "stdout",
          "text": [
            "         Name  Age             Job\n",
            "3       Sofía   25      Quimico(a)\n",
            "6        José   26       Medico(a)\n",
            "15     Camila   27    Psicologo(a)\n",
            "9       Elena   28      Bombero(a)\n",
            "1      Carlos   29       Medico(a)\n",
            "12     Andrés   30     Profesor(a)\n",
            "18   Santiago   31    Sociologo(a)\n",
            "17    Valeria   32     Botanico(a)\n",
            "8       David   33       Pintor(a)\n",
            "0       María   34      Abogado(a)\n",
            "10     Manuel   35       Medico(a)\n",
            "23    Roberto   36       Estadista\n",
            "20  Alejandro   37     Profesor(a)\n",
            "4      Miguel   38       Estadista\n",
            "13      Clara   39  Veterinario(a)\n",
            "19     Teresa   40     Profesor(a)\n",
            "5       Laura   41   Arquitecto(a)\n",
            "14   Fernando   42   Odontologo(a)\n",
            "21      Marta   43       Medico(a)\n",
            "24    Gonzalo   44      Quimico(a)\n",
            "11      Paula   46       Estadista\n",
            "2       Lucía   47     Profesor(a)\n",
            "22     Daniel   48      Biologo(a)\n",
            "16     Javier   49    Enfermero(a)\n",
            "7      Isabel   50   Odontologo(a)\n"
          ]
        }
      ]
    },
    {
      "cell_type": "code",
      "source": [
        "# Añadir funciones con apply\n",
        "def age_in_months(age):\n",
        "  return age * 12\n",
        "\n",
        "df['Age_in_months'] = df['Age'].apply(age_in_months)\n",
        "print(df)"
      ],
      "metadata": {
        "id": "FXe9tmuEYvZ6",
        "colab": {
          "base_uri": "https://localhost:8080/"
        },
        "outputId": "6fd21585-df1a-4eea-b627-9a39108c51bc"
      },
      "execution_count": null,
      "outputs": [
        {
          "output_type": "stream",
          "name": "stdout",
          "text": [
            "         Name  Age             Job  Experience years  Age_in_months\n",
            "0       María   34      Abogado(a)                 5            408\n",
            "1      Carlos   29       Medico(a)                 3            348\n",
            "2       Lucía   47     Profesor(a)                 2            564\n",
            "3       Sofía   25      Quimico(a)                 4            300\n",
            "4      Miguel   38       Estadista                 3            456\n",
            "5       Laura   41   Arquitecto(a)                 1            492\n",
            "6        José   26       Medico(a)                 5            312\n",
            "7      Isabel   50   Odontologo(a)                 2            600\n",
            "8       David   33       Pintor(a)                 3            396\n",
            "9       Elena   28      Bombero(a)                 4            336\n",
            "10     Manuel   35       Medico(a)                 3            420\n",
            "11      Paula   46       Estadista                 5            552\n",
            "12     Andrés   30     Profesor(a)                 2            360\n",
            "13      Clara   39  Veterinario(a)                 1            468\n",
            "14   Fernando   42   Odontologo(a)                 4            504\n",
            "15     Camila   27    Psicologo(a)                 6            324\n",
            "16     Javier   49    Enfermero(a)                 3            588\n",
            "17    Valeria   32     Botanico(a)                 3            384\n",
            "18   Santiago   31    Sociologo(a)                 1            372\n",
            "19     Teresa   40     Profesor(a)                 0            480\n",
            "20  Alejandro   37     Profesor(a)                 4            444\n",
            "21      Marta   43       Medico(a)                 1            516\n",
            "22     Daniel   48      Biologo(a)                 1            576\n",
            "23    Roberto   36       Estadista                 2            432\n",
            "24    Gonzalo   44      Quimico(a)                 3            528\n"
          ]
        }
      ]
    },
    {
      "cell_type": "code",
      "source": [
        "# Buscar valores especificos\n",
        "print(df.loc[df[\"Job\"] == \"Medico(a)\"])"
      ],
      "metadata": {
        "colab": {
          "base_uri": "https://localhost:8080/"
        },
        "id": "u0BsbYpSg3gL",
        "outputId": "baf45cea-c17b-4033-b066-f0618efede8d"
      },
      "execution_count": null,
      "outputs": [
        {
          "output_type": "stream",
          "name": "stdout",
          "text": [
            "      Name  Age        Job  Experience years   Salary  Bonus(%)  \\\n",
            "1   Carlos   29  Medico(a)                 4  5000000      0.04   \n",
            "6     José   26  Medico(a)                 1  5000000      0.01   \n",
            "10  Manuel   35  Medico(a)                10  5000000      0.10   \n",
            "21   Marta   43  Medico(a)                18  5000000      0.18   \n",
            "\n",
            "    Salary with bonus  \n",
            "1           5200000.0  \n",
            "6           5050000.0  \n",
            "10          5500000.0  \n",
            "21          5900000.0  \n"
          ]
        }
      ]
    },
    {
      "cell_type": "code",
      "source": [
        "#Remover duplicados\n",
        "df_no_duplicates = df.drop_duplicates(subset=\"Job\")\n",
        "print(df_no_duplicates)"
      ],
      "metadata": {
        "colab": {
          "base_uri": "https://localhost:8080/"
        },
        "id": "SIBLGHk2BaLU",
        "outputId": "9e93da1b-c251-4ec7-cf34-861d53f89487"
      },
      "execution_count": null,
      "outputs": [
        {
          "output_type": "stream",
          "name": "stdout",
          "text": [
            "        Name  Age             Job  Experience years   Salary\n",
            "0      María   34      Abogado(a)                 9  4000000\n",
            "1     Carlos   29       Medico(a)                 4  5000000\n",
            "2      Lucía   47     Profesor(a)                22  2000000\n",
            "3      Sofía   25      Quimico(a)                 0  3500000\n",
            "4     Miguel   38       Estadista                13  6000000\n",
            "5      Laura   41   Arquitecto(a)                16  4000000\n",
            "7     Isabel   50   Odontologo(a)                25  3000000\n",
            "8      David   33       Pintor(a)                 8  2000000\n",
            "9      Elena   28      Bombero(a)                 3  2000000\n",
            "13     Clara   39  Veterinario(a)                14  3000000\n",
            "15    Camila   27    Psicologo(a)                 2  2500000\n",
            "16    Javier   49    Enfermero(a)                24  3000000\n",
            "17   Valeria   32     Botanico(a)                 7  2500000\n",
            "18  Santiago   31    Sociologo(a)                 6  3000000\n",
            "22    Daniel   48      Biologo(a)                23  2000000\n"
          ]
        }
      ]
    }
  ]
}