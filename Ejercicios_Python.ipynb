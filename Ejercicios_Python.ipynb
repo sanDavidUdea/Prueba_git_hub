{
  "nbformat": 4,
  "nbformat_minor": 0,
  "metadata": {
    "colab": {
      "provenance": [],
      "authorship_tag": "ABX9TyNf8SjQI/lzVy9SGdHTot8S",
      "include_colab_link": true
    },
    "kernelspec": {
      "name": "python3",
      "display_name": "Python 3"
    },
    "language_info": {
      "name": "python"
    }
  },
  "cells": [
    {
      "cell_type": "markdown",
      "metadata": {
        "id": "view-in-github",
        "colab_type": "text"
      },
      "source": [
        "<a href=\"https://colab.research.google.com/github/sanDavidUdea/Prueba_git_hub/blob/master/Ejercicios_Python.ipynb\" target=\"_parent\"><img src=\"https://colab.research.google.com/assets/colab-badge.svg\" alt=\"Open In Colab\"/></a>"
      ]
    },
    {
      "cell_type": "code",
      "execution_count": 7,
      "metadata": {
        "colab": {
          "base_uri": "https://localhost:8080/"
        },
        "id": "CrY294sauSFx",
        "outputId": "9462d1a1-ab51-435a-c48a-c64b15464cce"
      },
      "outputs": [
        {
          "output_type": "stream",
          "name": "stdout",
          "text": [
            "¿Cuál es el primer número?2\n",
            "¿Cuál es el segundo número?4\n",
            "Primer número: 2.0\n",
            "Segundo número: 4.0\n",
            "El promedio es: 3.0\n"
          ]
        }
      ],
      "source": [
        "#Calculadora de promedios\n",
        "x = float(input(\"¿Cuál es el primer número?\"))\n",
        "y = float(input(\"¿Cuál es el segundo número?\"))\n",
        "Promedio= (x+y)/2\n",
        "print (\"Primer número:\",x)\n",
        "print ('Segundo número:',y)\n",
        "print ('El promedio es:',Promedio)"
      ]
    },
    {
      "cell_type": "code",
      "source": [
        "#Numeros pares o impares\n",
        "n = int(input(\"Ingrese un número: \"))\n",
        "if n%2 == 0:\n",
        " print(n, \"Es par\")\n",
        "else:\n",
        " print(n, \"Es impar\")"
      ],
      "metadata": {
        "colab": {
          "base_uri": "https://localhost:8080/"
        },
        "id": "Dd5vDT-NuxMX",
        "outputId": "f725bfc7-dfb3-40bc-9b28-2297d210418c"
      },
      "execution_count": 8,
      "outputs": [
        {
          "output_type": "stream",
          "name": "stdout",
          "text": [
            "Ingrese un número: 97\n",
            "97 Es impar\n"
          ]
        }
      ]
    },
    {
      "cell_type": "code",
      "source": [
        "#Calculadora de factoriales\n",
        "import math\n",
        "x = int(input(\"Ingrese un número: \"))\n",
        "print (\"El factorial es : \", end =\"\")\n",
        "print (math.factorial(x))"
      ],
      "metadata": {
        "colab": {
          "base_uri": "https://localhost:8080/"
        },
        "id": "L0a_B8VKu3HL",
        "outputId": "5afdf234-7252-4908-d5f8-b77e3f7930b5"
      },
      "execution_count": 9,
      "outputs": [
        {
          "output_type": "stream",
          "name": "stdout",
          "text": [
            "Ingrese un número: 5\n",
            "El factorial es : 120\n"
          ]
        }
      ]
    },
    {
      "cell_type": "code",
      "source": [
        "#Calculadora de raices\n",
        "num1 =int(input(\"Ingrese un número:\"))\n",
        "raiz= num1 ** 0.5\n",
        "print(\"la raiz es:\", raiz)\n"
      ],
      "metadata": {
        "colab": {
          "base_uri": "https://localhost:8080/"
        },
        "id": "Vxs6v7U9u20N",
        "outputId": "95a35297-cd1c-44c0-bf56-4828b17388c3"
      },
      "execution_count": 11,
      "outputs": [
        {
          "output_type": "stream",
          "name": "stdout",
          "text": [
            "Ingrese un número:144\n",
            "la raiz es: 12.0\n"
          ]
        }
      ]
    },
    {
      "cell_type": "code",
      "source": [
        "#Calculadora de mcm\n",
        "num1 =int(input(\"Ingrese el primer número:\"))\n",
        "num2 =int(input(\"Ingrese el segundo número:\"))\n",
        "\n",
        "A = max(num1, num2)\n",
        "B = min(num1, num2)\n",
        "\n",
        "while B:\n",
        "    mcd = B\n",
        "    B = A % B\n",
        "    A = mcd\n",
        "mcm =  (num1 * num2) // mcd\n",
        "print (\"El resultado es:\", mcm)"
      ],
      "metadata": {
        "colab": {
          "base_uri": "https://localhost:8080/"
        },
        "id": "DKTtJrEEu2iD",
        "outputId": "8cb3d9cf-c5c8-4676-95ae-a9b56da42425"
      },
      "execution_count": 12,
      "outputs": [
        {
          "output_type": "stream",
          "name": "stdout",
          "text": [
            "Ingrese el primer número:4\n",
            "Ingrese el segundo número:3\n",
            "El resultado es: 12\n"
          ]
        }
      ]
    }
  ]
}